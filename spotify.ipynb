{
 "cells": [
  {
   "cell_type": "code",
   "execution_count": 14,
   "metadata": {},
   "outputs": [
    {
     "name": "stdout",
     "output_type": "stream",
     "text": [
      "Defaulting to user installation because normal site-packages is not writeable\n",
      "Requirement already satisfied: spotipy in c:\\users\\andre\\appdata\\roaming\\python\\python39\\site-packages (2.23.0)\n",
      "Requirement already satisfied: redis>=3.5.3 in c:\\users\\andre\\appdata\\roaming\\python\\python39\\site-packages (from spotipy) (4.6.0)\n",
      "Requirement already satisfied: requests>=2.25.0 in c:\\users\\andre\\appdata\\roaming\\python\\python39\\site-packages (from spotipy) (2.31.0)\n",
      "Requirement already satisfied: six>=1.15.0 in c:\\users\\andre\\appdata\\roaming\\python\\python39\\site-packages (from spotipy) (1.15.0)\n",
      "Requirement already satisfied: urllib3>=1.26.0 in c:\\users\\andre\\appdata\\roaming\\python\\python39\\site-packages (from spotipy) (2.0.4)\n",
      "Requirement already satisfied: async-timeout>=4.0.2 in c:\\users\\andre\\appdata\\roaming\\python\\python39\\site-packages (from redis>=3.5.3->spotipy) (4.0.3)\n",
      "Requirement already satisfied: charset-normalizer<4,>=2 in c:\\users\\andre\\appdata\\roaming\\python\\python39\\site-packages (from requests>=2.25.0->spotipy) (3.2.0)\n",
      "Requirement already satisfied: idna<4,>=2.5 in c:\\users\\andre\\appdata\\roaming\\python\\python39\\site-packages (from requests>=2.25.0->spotipy) (3.4)\n",
      "Requirement already satisfied: certifi>=2017.4.17 in c:\\users\\andre\\appdata\\roaming\\python\\python39\\site-packages (from requests>=2.25.0->spotipy) (2023.7.22)\n"
     ]
    }
   ],
   "source": [
    "!pip install spotipy"
   ]
  },
  {
   "cell_type": "markdown",
   "metadata": {},
   "source": [
    "## KONEKSI KE SPOTIFY"
   ]
  },
  {
   "cell_type": "code",
   "execution_count": 15,
   "metadata": {},
   "outputs": [],
   "source": [
    "# menggunakan metode Http GET\n",
    "import spotipy\n",
    "from spotipy.oauth2 import SpotifyClientCredentials"
   ]
  },
  {
   "cell_type": "code",
   "execution_count": 16,
   "metadata": {},
   "outputs": [],
   "source": [
    "# mencoba terhubung ke Spotify API\n",
    "client_id ='701d61d4580a470f8f526befca8e5679'\n",
    "client_secret = '10fc4e3e0a01488a93a332cb0761e91b'"
   ]
  },
  {
   "cell_type": "code",
   "execution_count": 18,
   "metadata": {},
   "outputs": [],
   "source": [
    "# metode autentikasi\n",
    "auth_manager = SpotifyClientCredentials(client_id=client_id, client_secret=client_secret)\n",
    "sp = spotipy.Spotify(auth_manager=auth_manager)"
   ]
  },
  {
   "cell_type": "markdown",
   "metadata": {},
   "source": [
    "## MENGAMBIL DETAIL PLAYLIST "
   ]
  },
  {
   "cell_type": "code",
   "execution_count": 150,
   "metadata": {},
   "outputs": [],
   "source": [
    "# Playlist ID yg ingin diambil datanya\n",
    "playlist_ids = ['spotify:playlist:3Ga9YWdERfmCpkoNlrE1tV']\n",
    "\n",
    "# Function untuk mendefinisikan info playlist \n",
    "def get_playlist_info(playlist_ids, client_id, client_secret):\n",
    "    \n",
    "    playlist_info = []\n",
    "    \n",
    "    for playlist_id in playlist_ids:\n",
    "        try:\n",
    "            # Mengambil info detail playlist dari playlist ID\n",
    "            playlist = sp.playlist(playlist_id)\n",
    "            \n",
    "            # Mengekstrak informasi playlist dgn dictionary\n",
    "            playlist_name = playlist['name']\n",
    "            owner = playlist['owner']['display_name']\n",
    "            track_count = playlist['tracks']['total']\n",
    "            description = playlist['description']\n",
    "            \n",
    "            # Menambahkan info playlist ke daftar/list\n",
    "            playlist_info.append({\n",
    "                'Playlist Name': playlist_name,\n",
    "                'Owner': owner,\n",
    "                'Track Count': track_count,\n",
    "            })\n",
    "        except:\n",
    "            print(f\"Error retrieving info for playlist ID: {playlist_id}\")\n",
    "    \n",
    "    return playlist_info\n",
    "\n",
    "# Function untuk memanggil info playlist\n",
    "playlist_info = get_playlist_info(playlist_ids, client_id, client_secret)"
   ]
  },
  {
   "cell_type": "code",
   "execution_count": 151,
   "metadata": {},
   "outputs": [
    {
     "name": "stdout",
     "output_type": "stream",
     "text": [
      "{'Playlist Name': 'otw', 'Owner': 'psychobaby', 'Track Count': 216}\n"
     ]
    }
   ],
   "source": [
    "# Cek apakah playlist yg diambil benar/tidak\n",
    "for info in playlist_info:\n",
    "    print(info)"
   ]
  },
  {
   "cell_type": "code",
   "execution_count": 153,
   "metadata": {},
   "outputs": [],
   "source": [
    "# Function untuk mendefinisikan popularitas lagu \n",
    "def get_track_popularity(track_id):\n",
    "    # Mengambil/mendapatkan detail lagu dengan track ID\n",
    "    track_details = sp.track(track_id)\n",
    "\n",
    "    # Melakukan extract untuk popularitas lagu dari track_details\n",
    "    popularity = track_details['popularity']\n",
    "    return popularity\n",
    "\n",
    "# Function untuk mendefinisikan fitur playlist\n",
    "def get_playlist_features(playlist_id):\n",
    "    \n",
    "    playlist_features = []\n",
    "    \n",
    "    # Mengambil detail playlist dengan playlist ID\n",
    "    playlist = sp.playlist(playlist_id)\n",
    "    \n",
    "    # Mengulang setiap lagu dari playlist menggunakan track ID\n",
    "    for track in playlist['tracks']['items']:\n",
    "        track_id = track['track']['id']\n",
    "        \n",
    "        # Memberikan info ttg fitur audio dr track ID\n",
    "        features = sp.audio_features(track_id)\n",
    "\n",
    "        # Mengambil detail lagu tertentu dengan track ID\n",
    "        track_details = sp.track(track_id)\n",
    "        \n",
    "        # Memeriksa apakah list 'features' tidak kosong dan memiliki setidaknya 1 elemen\n",
    "        if features and len(features) > 0:\n",
    "            # Melakukan extract fitur audio dgn dictionary\n",
    "            danceability = features[0]['danceability']\n",
    "            acousticness = features[0]['acousticness']\n",
    "            loudness = features[0]['loudness']\n",
    "            energy = features[0]['energy']\n",
    "            tempo = features[0]['tempo']\n",
    "\n",
    "            # Mengambil detail lagu tertentu dari track_details\n",
    "            album_name = track_details['album'] ['name']\n",
    "            release_date = track_details['album']['release_date']\n",
    "            # Function utk mendapatkan popularitas utk setiap lagu dipanggil terpisah\n",
    "            popularity = get_track_popularity(track_id)\n",
    "            \n",
    "            # Menambahkan info fitur pada playlist ke daftar/list\n",
    "            playlist_features.append({\n",
    "                'Track Name': track['track']['name'],\n",
    "                'Artists': ', '.join([artist['name'] for artist in track['track']['artists']]), \n",
    "                'Album': album_name,\n",
    "                'Release Date': release_date,\n",
    "                'Popularity': popularity,\n",
    "                'Danceability': danceability,\n",
    "                'Acousticness': acousticness,\n",
    "                'Loudness': loudness,\n",
    "                'Energy': energy,\n",
    "                'Tempo': tempo\n",
    "            })\n",
    "    \n",
    "    return playlist_features\n",
    "\n",
    "# Memanggil function utk fitur playlist\n",
    "playlist_features = get_playlist_features(playlist_id)"
   ]
  },
  {
   "cell_type": "code",
   "execution_count": 80,
   "metadata": {},
   "outputs": [
    {
     "name": "stdout",
     "output_type": "stream",
     "text": [
      "{'Track Name': 'Getaway Car', 'Artists': 'Taylor Swift', 'Album': 'reputation', 'Release Date': '2017-11-10', 'Popularity': 87, 'Danceability': 0.562, 'Acousticness': 0.00465, 'Loudness': -6.745, 'Energy': 0.689, 'Tempo': 172.054}\n",
      "{'Track Name': 'Style', 'Artists': 'Taylor Swift', 'Album': '1989 (Deluxe)', 'Release Date': '2014-01-01', 'Popularity': 91, 'Danceability': 0.588, 'Acousticness': 0.00245, 'Loudness': -5.595, 'Energy': 0.791, 'Tempo': 94.933}\n",
      "{'Track Name': 'With you', 'Artists': 'Jimin, HA SUNG WOON', 'Album': 'Our Blues, Pt. 4 (Original Television Soundtrack)', 'Release Date': '2022-04-24', 'Popularity': 75, 'Danceability': 0.532, 'Acousticness': 0.639, 'Loudness': -6.117, 'Energy': 0.426, 'Tempo': 149.898}\n",
      "{'Track Name': 'Tek It', 'Artists': 'Cafuné', 'Album': 'Running', 'Release Date': '2021-07-20', 'Popularity': 0, 'Danceability': 0.419, 'Acousticness': 7.59e-05, 'Loudness': -5.604, 'Energy': 0.892, 'Tempo': 146.97}\n",
      "{'Track Name': 'New Person, Same Old Mistakes', 'Artists': 'Tame Impala', 'Album': 'Currents', 'Release Date': '2015-07-17', 'Popularity': 82, 'Danceability': 0.47, 'Acousticness': 0.272, 'Loudness': -6.74, 'Energy': 0.809, 'Tempo': 151.836}\n",
      "{'Track Name': 'Beg For Me', 'Artists': 'Red Velvet', 'Album': '‘The ReVe Festival 2022 - Feel My Rhythm’', 'Release Date': '2022-03-21', 'Popularity': 54, 'Danceability': 0.713, 'Acousticness': 0.171, 'Loudness': -3.074, 'Energy': 0.796, 'Tempo': 146.986}\n",
      "{'Track Name': 'BAMBOLEO', 'Artists': 'Red Velvet', 'Album': '‘The ReVe Festival 2022 - Feel My Rhythm’', 'Release Date': '2022-03-21', 'Popularity': 59, 'Danceability': 0.652, 'Acousticness': 0.0296, 'Loudness': -3.322, 'Energy': 0.88, 'Tempo': 107.95}\n",
      "{'Track Name': 'See You Again (feat. Kali Uchis)', 'Artists': 'Tyler, The Creator, Kali Uchis', 'Album': 'Flower Boy', 'Release Date': '2017-07-21', 'Popularity': 93, 'Danceability': 0.558, 'Acousticness': 0.371, 'Loudness': -9.222, 'Energy': 0.559, 'Tempo': 78.558}\n",
      "{'Track Name': 'Disenchanted', 'Artists': 'My Chemical Romance', 'Album': 'The Black Parade', 'Release Date': '2006-10-23', 'Popularity': 78, 'Danceability': 0.343, 'Acousticness': 0.00218, 'Loudness': -3.926, 'Energy': 0.692, 'Tempo': 174.07}\n",
      "{'Track Name': 'Baby Came Home 2 / Valentines', 'Artists': 'The Neighbourhood', 'Album': 'Wiped Out!', 'Release Date': '2015-10-30', 'Popularity': 70, 'Danceability': 0.21, 'Acousticness': 0.0687, 'Loudness': -9.754, 'Energy': 0.499, 'Tempo': 74.094}\n",
      "{'Track Name': 'Lover Is a Day', 'Artists': 'Cuco', 'Album': 'wannabewithu', 'Release Date': '2016-07-09', 'Popularity': 3, 'Danceability': 0.406, 'Acousticness': 0.0427, 'Loudness': -10.453, 'Energy': 0.647, 'Tempo': 180.044}\n",
      "{'Track Name': 'hey girl', 'Artists': 'boy pablo', 'Album': 'Wachito Rico', 'Release Date': '2020-10-23', 'Popularity': 55, 'Danceability': 0.585, 'Acousticness': 0.00464, 'Loudness': -10.038, 'Energy': 0.487, 'Tempo': 99.933}\n",
      "{'Track Name': 'Dance, Baby!', 'Artists': 'boy pablo', 'Album': 'Roy Pablo', 'Release Date': '2017-05-19', 'Popularity': 67, 'Danceability': 0.602, 'Acousticness': 0.037, 'Loudness': -8.521, 'Energy': 0.601, 'Tempo': 122.017}\n",
      "{'Track Name': 'CALL ME BABY', 'Artists': 'EXO', 'Album': 'EXODUS - The 2nd Album', 'Release Date': '2015-03-30', 'Popularity': 69, 'Danceability': 0.692, 'Acousticness': 0.284, 'Loudness': -2.519, 'Energy': 0.886, 'Tempo': 100.03}\n",
      "{'Track Name': 'Tek It - Sped Up', 'Artists': 'Cafuné', 'Album': 'Tek It (I Watch the Moon)', 'Release Date': '2019', 'Popularity': 80, 'Danceability': 0.348, 'Acousticness': 9.93e-05, 'Loudness': -5.049, 'Energy': 0.95, 'Tempo': 168.964}\n",
      "{'Track Name': 'Hello Future', 'Artists': 'NCT DREAM', 'Album': 'Hello Future - The 1st Album Repackage', 'Release Date': '2021-06-28', 'Popularity': 70, 'Danceability': 0.545, 'Acousticness': 0.0261, 'Loudness': -2.283, 'Energy': 0.803, 'Tempo': 170.006}\n",
      "{'Track Name': \"Ridin'\", 'Artists': 'NCT DREAM', 'Album': 'Reload', 'Release Date': '2020-04-29', 'Popularity': 61, 'Danceability': 0.549, 'Acousticness': 0.178, 'Loudness': -1.483, 'Energy': 0.903, 'Tempo': 150.009}\n",
      "{'Track Name': 'Torn', 'Artists': 'Natalie Imbruglia', 'Album': 'Glorious: The Singles 97-07', 'Release Date': '2007-09-05', 'Popularity': 68, 'Danceability': 0.558, 'Acousticness': 0.0746, 'Loudness': -3.04, 'Energy': 0.928, 'Tempo': 96.313}\n",
      "{'Track Name': 'GLASSY SKY', 'Artists': 'Yutaka Yamada', 'Album': 'TVアニメ『東京喰種』ORIGINAL SOUNDTRACK', 'Release Date': '2015-03-25', 'Popularity': 56, 'Danceability': 0.451, 'Acousticness': 0.546, 'Loudness': -14.784, 'Energy': 0.246, 'Tempo': 145.587}\n",
      "{'Track Name': 'SAME SAME', 'Artists': 'STAYC', 'Album': 'YOUNG-LUV.COM', 'Release Date': '2022-02-21', 'Popularity': 56, 'Danceability': 0.734, 'Acousticness': 0.0938, 'Loudness': -7.135, 'Energy': 0.586, 'Tempo': 76.011}\n",
      "{'Track Name': 'ON MY OWN', 'Artists': 'Yutaka Yamada', 'Album': 'TVアニメ『東京喰種』ORIGINAL SOUNDTRACK', 'Release Date': '2015-03-25', 'Popularity': 46, 'Danceability': 0.564, 'Acousticness': 0.00541, 'Loudness': -6.878, 'Energy': 0.737, 'Tempo': 135.045}\n",
      "{'Track Name': '悪魔の子', 'Artists': 'Higuchi Ai', 'Album': '悪魔の子', 'Release Date': '2022-01-10', 'Popularity': 55, 'Danceability': 0.561, 'Acousticness': 0.267, 'Loudness': -6.273, 'Energy': 0.686, 'Tempo': 89.97}\n",
      "{'Track Name': 'Day 1', 'Artists': 'Red Velvet', 'Album': 'The Red - The 1st Album', 'Release Date': '2015-09-09', 'Popularity': 64, 'Danceability': 0.645, 'Acousticness': 0.112, 'Loudness': -2.801, 'Energy': 0.884, 'Tempo': 171.93}\n",
      "{'Track Name': 'Blue Jeans', 'Artists': 'Lana Del Rey', 'Album': 'Born To Die - The Paradise Edition', 'Release Date': '2012-01-01', 'Popularity': 72, 'Danceability': 0.558, 'Acousticness': 0.418, 'Loudness': -4.405, 'Energy': 0.837, 'Tempo': 117.963}\n",
      "{'Track Name': 'Japanese Denim', 'Artists': 'Daniel Caesar', 'Album': 'Get You - Single', 'Release Date': '2016-10-21', 'Popularity': 80, 'Danceability': 0.707, 'Acousticness': 0.0905, 'Loudness': -8.818, 'Energy': 0.238, 'Tempo': 124.156}\n",
      "{'Track Name': 'Norman fucking Rockwell', 'Artists': 'Lana Del Rey', 'Album': 'Norman Fucking Rockwell!', 'Release Date': '2019-08-30', 'Popularity': 79, 'Danceability': 0.215, 'Acousticness': 0.968, 'Loudness': -12.65, 'Energy': 0.203, 'Tempo': 78.287}\n",
      "{'Track Name': 'Happier Than Ever - Edit', 'Artists': 'Billie Eilish', 'Album': 'Happier Than Ever (Edit)', 'Release Date': '2021-07-28', 'Popularity': 80, 'Danceability': 0.334, 'Acousticness': 0.0468, 'Loudness': -5.742, 'Energy': 0.599, 'Tempo': 161.74}\n",
      "{'Track Name': 'Summertime Sadness', 'Artists': 'Lana Del Rey', 'Album': 'Born To Die - The Paradise Edition', 'Release Date': '2012-01-01', 'Popularity': 87, 'Danceability': 0.565, 'Acousticness': 0.0542, 'Loudness': -6.826, 'Energy': 0.654, 'Tempo': 111.968}\n",
      "{'Track Name': 'Radio', 'Artists': 'Lana Del Rey', 'Album': 'Born To Die - The Paradise Edition', 'Release Date': '2012-01-01', 'Popularity': 85, 'Danceability': 0.423, 'Acousticness': 0.188, 'Loudness': -5.173, 'Energy': 0.857, 'Tempo': 75.024}\n",
      "{'Track Name': 'In My Dreams', 'Artists': 'Red Velvet', 'Album': '‘The ReVe Festival 2022 - Feel My Rhythm’', 'Release Date': '2022-03-21', 'Popularity': 62, 'Danceability': 0.652, 'Acousticness': 0.215, 'Loudness': -4.517, 'Energy': 0.536, 'Tempo': 101.044}\n",
      "{'Track Name': 'Dua Sedjoli', 'Artists': 'Dewa', 'Album': 'Bintang Lima', 'Release Date': '2000-05-15', 'Popularity': 60, 'Danceability': 0.49, 'Acousticness': 0.0417, 'Loudness': -8.337, 'Energy': 0.706, 'Tempo': 93.822}\n",
      "{'Track Name': 'My Dear', 'Artists': 'Red Velvet', 'Album': 'Russian Roulette - The 3rd Mini Album', 'Release Date': '2016-09-07', 'Popularity': 46, 'Danceability': 0.55, 'Acousticness': 0.327, 'Loudness': -2.681, 'Energy': 0.798, 'Tempo': 201.965}\n",
      "{'Track Name': 'Take It Slow', 'Artists': 'Red Velvet', 'Album': 'Ice Cream Cake - The 1st Mini Album', 'Release Date': '2015-03-17', 'Popularity': 44, 'Danceability': 0.758, 'Acousticness': 0.199, 'Loudness': -5.227, 'Energy': 0.583, 'Tempo': 104.007}\n",
      "{'Track Name': 'Emotional Love Song', 'Artists': 'Dewa 19', 'Album': 'Republik Cinta', 'Release Date': '2005-12-01', 'Popularity': 34, 'Danceability': 0.517, 'Acousticness': 0.0996, 'Loudness': -6.759, 'Energy': 0.925, 'Tempo': 171.954}\n",
      "{'Track Name': 'Dua Sedjoli', 'Artists': 'Dewa', 'Album': 'The Greatest Hits', 'Release Date': '2013-12-09', 'Popularity': 37, 'Danceability': 0.339, 'Acousticness': 0.0548, 'Loudness': -8.901, 'Energy': 0.681, 'Tempo': 187.625}\n",
      "{'Track Name': 'Angin', 'Artists': 'Dewa 19', 'Album': 'Kerajaan Cinta', 'Release Date': '2007-12-03', 'Popularity': 42, 'Danceability': 0.532, 'Acousticness': 0.00346, 'Loudness': -5.338, 'Energy': 0.929, 'Tempo': 159.956}\n",
      "{'Track Name': 'Rahasia Hati', 'Artists': 'Element', 'Album': 'Save The Best For Last', 'Release Date': '2014-03-04', 'Popularity': 53, 'Danceability': 0.468, 'Acousticness': 0.0484, 'Loudness': -8.197, 'Energy': 0.514, 'Tempo': 149.943}\n",
      "{'Track Name': 'Too Good to Say Goodbye', 'Artists': 'Bruno Mars', 'Album': '24K Magic', 'Release Date': '2016-11-17', 'Popularity': 69, 'Danceability': 0.587, 'Acousticness': 0.0389, 'Loudness': -6.054, 'Energy': 0.63, 'Tempo': 76.97}\n",
      "{'Track Name': 'Overboard', 'Artists': 'Justin Bieber, Jessica Jarrell', 'Album': 'My World 2.0', 'Release Date': '2010-01-01', 'Popularity': 62, 'Danceability': 0.479, 'Acousticness': 0.183, 'Loudness': -5.212, 'Energy': 0.788, 'Tempo': 173.963}\n",
      "{'Track Name': 'Stuck In The Moment', 'Artists': 'Justin Bieber', 'Album': 'My World 2.0', 'Release Date': '2010-01-01', 'Popularity': 64, 'Danceability': 0.721, 'Acousticness': 0.165, 'Loudness': -6.353, 'Energy': 0.698, 'Tempo': 89.987}\n",
      "{'Track Name': 'Honeymoon Avenue', 'Artists': 'Ariana Grande', 'Album': 'Yours Truly', 'Release Date': '2013-01-01', 'Popularity': 63, 'Danceability': 0.692, 'Acousticness': 0.218, 'Loudness': -5.233, 'Energy': 0.608, 'Tempo': 125.005}\n",
      "{'Track Name': 'ghostin', 'Artists': 'Ariana Grande', 'Album': 'thank u, next', 'Release Date': '2019-02-08', 'Popularity': 69, 'Danceability': 0.287, 'Acousticness': 0.418, 'Loudness': -8.295, 'Energy': 0.364, 'Tempo': 103.777}\n",
      "{'Track Name': 'i love you', 'Artists': 'Billie Eilish', 'Album': 'WHEN WE ALL FALL ASLEEP, WHERE DO WE GO?', 'Release Date': '2019-03-29', 'Popularity': 81, 'Danceability': 0.421, 'Acousticness': 0.952, 'Loudness': -18.435, 'Energy': 0.131, 'Tempo': 137.446}\n",
      "{'Track Name': 'idontwannabeyouanymore', 'Artists': 'Billie Eilish', 'Album': 'dont smile at me', 'Release Date': '2017-12-22', 'Popularity': 82, 'Danceability': 0.483, 'Acousticness': 0.737, 'Loudness': -8.461, 'Energy': 0.412, 'Tempo': 170.163}\n",
      "{'Track Name': 'party favor', 'Artists': 'Billie Eilish', 'Album': 'dont smile at me', 'Release Date': '2017-12-22', 'Popularity': 70, 'Danceability': 0.826, 'Acousticness': 0.882, 'Loudness': -12.181, 'Energy': 0.188, 'Tempo': 130.022}\n",
      "{'Track Name': 'Strawberries & Cigarettes', 'Artists': 'Troye Sivan', 'Album': 'Strawberries & Cigarettes', 'Release Date': '2018-03-16', 'Popularity': 81, 'Danceability': 0.578, 'Acousticness': 0.162, 'Loudness': -8.676, 'Energy': 0.537, 'Tempo': 83.909}\n",
      "{'Track Name': 'Quarterback', 'Artists': 'Wallows', 'Album': 'Quarterback', 'Release Date': '2021-02-15', 'Popularity': 63, 'Danceability': 0.689, 'Acousticness': 0.0135, 'Loudness': -3.883, 'Energy': 0.719, 'Tempo': 121.008}\n",
      "{'Track Name': 'Leave Before You Love Me (with Jonas Brothers)', 'Artists': 'Marshmello, Jonas Brothers', 'Album': 'Leave Before You Love Me', 'Release Date': '2021-05-21', 'Popularity': 84, 'Danceability': 0.721, 'Acousticness': 0.00226, 'Loudness': -4.77, 'Energy': 0.738, 'Tempo': 119.976}\n",
      "{'Track Name': 'Come Inside Of My Heart', 'Artists': 'IV Of Spades', 'Album': 'CLAPCLAPCLAP!', 'Release Date': '2019-01-18', 'Popularity': 78, 'Danceability': 0.676, 'Acousticness': 0.00321, 'Loudness': -9.411, 'Energy': 0.565, 'Tempo': 113.007}\n",
      "{'Track Name': 'Chateau (Feel Alright)', 'Artists': 'Djo', 'Album': 'Twenty Twenty', 'Release Date': '2019-09-13', 'Popularity': 1, 'Danceability': 0.641, 'Acousticness': 0.43, 'Loudness': -11.763, 'Energy': 0.365, 'Tempo': 134.881}\n",
      "{'Track Name': 'Line by Line', 'Artists': 'PREP, Cory Wong, Paul Jackson, Jr.', 'Album': 'Line by Line', 'Release Date': '2018-11-09', 'Popularity': 1, 'Danceability': 0.827, 'Acousticness': 0.0579, 'Loudness': -7.305, 'Energy': 0.491, 'Tempo': 93.019}\n",
      "{'Track Name': 'No Make Up', 'Artists': 'Coldiac, NYK', 'Album': 'No Make Up', 'Release Date': '2020-02-07', 'Popularity': 43, 'Danceability': 0.509, 'Acousticness': 0.212, 'Loudness': -5.92, 'Energy': 0.716, 'Tempo': 91.537}\n",
      "{'Track Name': 'Teacher', 'Artists': 'PRETTYMUCH', 'Album': 'Teacher', 'Release Date': '2017-09-29', 'Popularity': 46, 'Danceability': 0.515, 'Acousticness': 0.0238, 'Loudness': -4.7, 'Energy': 0.631, 'Tempo': 179.892}\n",
      "{'Track Name': 'After The Storm (feat. Tyler, The Creator & Bootsy Collins)', 'Artists': 'Kali Uchis, Tyler, The Creator, Bootsy Collins', 'Album': 'Isolation', 'Release Date': '2018-04-06', 'Popularity': 84, 'Danceability': 0.702, 'Acousticness': 0.301, 'Loudness': -6.766, 'Energy': 0.659, 'Tempo': 79.64}\n",
      "{'Track Name': \"Ain't Shit\", 'Artists': 'Doja Cat', 'Album': 'Planet Her', 'Release Date': '2021-06-25', 'Popularity': 79, 'Danceability': 0.855, 'Acousticness': 0.506, 'Loudness': -4.601, 'Energy': 0.488, 'Tempo': 124.097}\n",
      "{'Track Name': 'dead to me - sped up + reverb', 'Artists': 'pearl, fast forward >>, Tazzy', 'Album': 'dead to me - sped up + reverb', 'Release Date': '2022-04-01', 'Popularity': 32, 'Danceability': 0.614, 'Acousticness': 0.231, 'Loudness': -16.278, 'Energy': 0.443, 'Tempo': 134.571}\n",
      "{'Track Name': 'Here We Go… Again (feat. Tyler, the Creator)', 'Artists': 'The Weeknd, Tyler, The Creator', 'Album': 'Dawn FM', 'Release Date': '2022-01-06', 'Popularity': 66, 'Danceability': 0.469, 'Acousticness': 0.345, 'Loudness': -4.432, 'Energy': 0.623, 'Tempo': 134.943}\n",
      "{'Track Name': 'Out of Time', 'Artists': 'The Weeknd', 'Album': 'Out Of Time (Remix Bundle)', 'Release Date': '2022-04-22', 'Popularity': 46, 'Danceability': 0.629, 'Acousticness': 0.244, 'Loudness': -4.279, 'Energy': 0.763, 'Tempo': 93.023}\n",
      "{'Track Name': 'Melepasmu', 'Artists': 'Drive', 'Album': 'Kita Untuk Selamanya', 'Release Date': '2008-07-10', 'Popularity': 62, 'Danceability': 0.544, 'Acousticness': 0.312, 'Loudness': -8.608, 'Energy': 0.554, 'Tempo': 150.042}\n",
      "{'Track Name': 'Is There Someone Else?', 'Artists': 'The Weeknd', 'Album': 'Dawn FM', 'Release Date': '2022-01-06', 'Popularity': 86, 'Danceability': 0.702, 'Acousticness': 0.0388, 'Loudness': -7.83, 'Energy': 0.586, 'Tempo': 134.951}\n",
      "{'Track Name': 'Back To December', 'Artists': 'Taylor Swift', 'Album': 'Speak Now', 'Release Date': '2010-10-25', 'Popularity': 74, 'Danceability': 0.517, 'Acousticness': 0.0202, 'Loudness': -5.797, 'Energy': 0.606, 'Tempo': 141.929}\n",
      "{'Track Name': 'Cruel Summer', 'Artists': 'Taylor Swift', 'Album': 'Lover', 'Release Date': '2019-08-23', 'Popularity': 99, 'Danceability': 0.552, 'Acousticness': 0.117, 'Loudness': -5.707, 'Energy': 0.702, 'Tempo': 169.994}\n",
      "{'Track Name': 'The Way I Loved You (Taylor’s Version)', 'Artists': 'Taylor Swift', 'Album': \"Fearless (Taylor's Version)\", 'Release Date': '2021-04-09', 'Popularity': 85, 'Danceability': 0.402, 'Acousticness': 0.0033, 'Loudness': -4.665, 'Energy': 0.732, 'Tempo': 161.032}\n",
      "{'Track Name': 'gold rush', 'Artists': 'Taylor Swift', 'Album': 'evermore', 'Release Date': '2020-12-11', 'Popularity': 74, 'Danceability': 0.512, 'Acousticness': 0.83, 'Loudness': -10.491, 'Energy': 0.462, 'Tempo': 112.05}\n",
      "{'Track Name': 'Call Out My Name', 'Artists': 'The Weeknd', 'Album': 'My Dear Melancholy,', 'Release Date': '2018-03-30', 'Popularity': 88, 'Danceability': 0.461, 'Acousticness': 0.17, 'Loudness': -4.954, 'Energy': 0.593, 'Tempo': 134.17}\n",
      "{'Track Name': 'The Archer', 'Artists': 'Taylor Swift', 'Album': 'Lover', 'Release Date': '2019-08-23', 'Popularity': 83, 'Danceability': 0.292, 'Acousticness': 0.12, 'Loudness': -9.375, 'Energy': 0.574, 'Tempo': 124.344}\n",
      "{'Track Name': 'Kita - Acoustic', 'Artists': 'Sheila On 7', 'Album': 'OST. 30 Hari Mencari Cinta', 'Release Date': '2003-12-05', 'Popularity': 48, 'Danceability': 0.773, 'Acousticness': 0.142, 'Loudness': -11.398, 'Energy': 0.525, 'Tempo': 119.024}\n",
      "{'Track Name': 'Kita', 'Artists': 'Sheila On 7', 'Album': 'Sheila On 7', 'Release Date': '1999-07-14', 'Popularity': 66, 'Danceability': 0.687, 'Acousticness': 0.15, 'Loudness': -11.654, 'Energy': 0.616, 'Tempo': 123.015}\n",
      "{'Track Name': 'Betapa', 'Artists': 'Sheila On 7', 'Album': 'Menentukan Arah', 'Release Date': '2008-11-11', 'Popularity': 60, 'Danceability': 0.621, 'Acousticness': 0.303, 'Loudness': -6.28, 'Energy': 0.727, 'Tempo': 130.001}\n",
      "{'Track Name': 'Sahabat Sejati', 'Artists': 'Sheila On 7', 'Album': 'Kisah Klasik Untuk Masa Depan', 'Release Date': '2000-10-04', 'Popularity': 61, 'Danceability': 0.481, 'Acousticness': 0.00619, 'Loudness': -7.837, 'Energy': 0.839, 'Tempo': 163.71}\n",
      "{'Track Name': 'Perasaanku Tentang Perasaanku Kepadamu', 'Artists': 'Dewa 19', 'Album': \"The 2000's Greatest\", 'Release Date': '2007-03-12', 'Popularity': 41, 'Danceability': 0.681, 'Acousticness': 0.0824, 'Loudness': -7.899, 'Energy': 0.622, 'Tempo': 94.99}\n",
      "{'Track Name': 'West Coast', 'Artists': 'Lana Del Rey', 'Album': 'Ultraviolence (Deluxe)', 'Release Date': '2014-01-01', 'Popularity': 86, 'Danceability': 0.527, 'Acousticness': 0.194, 'Loudness': -7.664, 'Energy': 0.591, 'Tempo': 123.167}\n",
      "{'Track Name': 'Consume (feat. Goon Des Garcons)', 'Artists': 'Chase Atlantic, GOON DES GARCONS*', 'Album': 'Chase Atlantic', 'Release Date': '2017-10-04', 'Popularity': 79, 'Danceability': 0.556, 'Acousticness': 0.07, 'Loudness': -5.322, 'Energy': 0.714, 'Tempo': 146.113}\n",
      "{'Track Name': 'Bother', 'Artists': 'Chris Coral, AdamAlexander', 'Album': 'All for Fun', 'Release Date': '2017-11-24', 'Popularity': 22, 'Danceability': 0.736, 'Acousticness': 0.024, 'Loudness': -5.917, 'Energy': 0.632, 'Tempo': 150.111}\n",
      "{'Track Name': \"Can't Remember to Forget You (feat. Rihanna)\", 'Artists': 'Shakira, Rihanna', 'Album': 'Shakira. (Expanded Edition)', 'Release Date': '2014-03-14', 'Popularity': 71, 'Danceability': 0.694, 'Acousticness': 0.122, 'Loudness': -3.556, 'Energy': 0.81, 'Tempo': 137.968}\n",
      "{'Track Name': 'Cry Me a River', 'Artists': 'Justin Timberlake', 'Album': 'Justified', 'Release Date': '2002-11-04', 'Popularity': 77, 'Danceability': 0.624, 'Acousticness': 0.577, 'Loudness': -6.582, 'Energy': 0.654, 'Tempo': 73.898}\n",
      "{'Track Name': \"can't remember to forget you (sped up)\", 'Artists': 'eresha', 'Album': \"can't remember to forget you (sped up)\", 'Release Date': '2022-06-24', 'Popularity': 0, 'Danceability': 0.374, 'Acousticness': 0.122, 'Loudness': -4.892, 'Energy': 0.892, 'Tempo': 164.077}\n",
      "{'Track Name': 'moment', 'Artists': 'Vierre Cloud', 'Album': 'moment', 'Release Date': '2019-12-19', 'Popularity': 79, 'Danceability': 0.544, 'Acousticness': 0.0426, 'Loudness': -7.461, 'Energy': 0.855, 'Tempo': 171.349}\n",
      "{'Track Name': 'Those Eyes', 'Artists': 'New West', 'Album': 'Those Eyes', 'Release Date': '2019-05-10', 'Popularity': 19, 'Danceability': 0.597, 'Acousticness': 0.727, 'Loudness': -8.043, 'Energy': 0.351, 'Tempo': 119.948}\n",
      "{'Track Name': 'Baby Came Home 2 / Valentines', 'Artists': 'The Neighbourhood', 'Album': 'Wiped Out!', 'Release Date': '2015-10-30', 'Popularity': 70, 'Danceability': 0.21, 'Acousticness': 0.0687, 'Loudness': -9.754, 'Energy': 0.499, 'Tempo': 74.094}\n",
      "{'Track Name': 'New Thang', 'Artists': 'Redfoo', 'Album': 'New Thang', 'Release Date': '2015-07-13', 'Popularity': 60, 'Danceability': 0.743, 'Acousticness': 0.0156, 'Loudness': -5.189, 'Energy': 0.841, 'Tempo': 100.003}\n",
      "{'Track Name': 'Rumah Singgah', 'Artists': 'Fabio Asher', 'Album': 'Rumah Singgah', 'Release Date': '2022-05-05', 'Popularity': 3, 'Danceability': 0.418, 'Acousticness': 0.723, 'Loudness': -10.665, 'Energy': 0.229, 'Tempo': 78.144}\n",
      "{'Track Name': 'Bertahan Terluka', 'Artists': 'Fabio Asher', 'Album': 'Bertahan Terluka', 'Release Date': '2022-02-02', 'Popularity': 3, 'Danceability': 0.325, 'Acousticness': 0.495, 'Loudness': -9.536, 'Energy': 0.345, 'Tempo': 77.835}\n",
      "{'Track Name': 'Wish I Could', 'Artists': 'Victor Lundberg, Andy Delos Santos', 'Album': 'Wish I Could', 'Release Date': '2019-10-11', 'Popularity': 49, 'Danceability': 0.468, 'Acousticness': 0.483, 'Loudness': -7.774, 'Energy': 0.701, 'Tempo': 179.779}\n",
      "{'Track Name': 'Get Free', 'Artists': 'Lana Del Rey', 'Album': 'Lust For Life', 'Release Date': '2017-07-21', 'Popularity': 71, 'Danceability': 0.205, 'Acousticness': 0.498, 'Loudness': -10.45, 'Energy': 0.472, 'Tempo': 203.944}\n",
      "{'Track Name': 'Brooklyn Baby', 'Artists': 'Lana Del Rey', 'Album': 'Ultraviolence (Deluxe)', 'Release Date': '2014-01-01', 'Popularity': 83, 'Danceability': 0.404, 'Acousticness': 0.542, 'Loudness': -6.698, 'Energy': 0.664, 'Tempo': 107.747}\n",
      "{'Track Name': 'Crazy', 'Artists': 'Chris Coral, AdamAlexander', 'Album': 'All for Fun', 'Release Date': '2017-11-24', 'Popularity': 37, 'Danceability': 0.862, 'Acousticness': 0.182, 'Loudness': -6.766, 'Energy': 0.496, 'Tempo': 107.959}\n",
      "{'Track Name': 'Running Up That Hill (A Deal With God)', 'Artists': 'Kate Bush', 'Album': 'Hounds Of Love', 'Release Date': '1985', 'Popularity': 32, 'Danceability': 0.629, 'Acousticness': 0.72, 'Loudness': -13.123, 'Energy': 0.547, 'Tempo': 108.375}\n",
      "{'Track Name': '마지막 사랑 Last Love', 'Artists': 'Red Velvet', 'Album': 'Rookie - The 4th Mini Album', 'Release Date': '2017-02-01', 'Popularity': 38, 'Danceability': 0.331, 'Acousticness': 0.565, 'Loudness': -6.231, 'Energy': 0.509, 'Tempo': 129.479}\n",
      "{'Track Name': 'Officially Missing You', 'Artists': 'Tamia', 'Album': 'Officially Missing You', 'Release Date': '2003', 'Popularity': 65, 'Danceability': 0.476, 'Acousticness': 0.247, 'Loudness': -9.239, 'Energy': 0.407, 'Tempo': 178.258}\n",
      "{'Track Name': 'Sedari Dulu', 'Artists': 'Tompi', 'Album': 'My Happy Life', 'Release Date': '2008-01-28', 'Popularity': 55, 'Danceability': 0.717, 'Acousticness': 0.388, 'Loudness': -5.438, 'Energy': 0.71, 'Tempo': 107.983}\n",
      "{'Track Name': 'Cinta Pertama Dan Terakhir', 'Artists': 'Sherina', 'Album': 'Gemini', 'Release Date': '2009-09-07', 'Popularity': 59, 'Danceability': 0.447, 'Acousticness': 0.641, 'Loudness': -5.815, 'Energy': 0.479, 'Tempo': 151.815}\n",
      "{'Track Name': 'Simfoni Hitam - versi Band', 'Artists': 'Sherina', 'Album': 'Gemini', 'Release Date': '2009-09-07', 'Popularity': 52, 'Danceability': 0.5, 'Acousticness': 0.214, 'Loudness': -7.447, 'Energy': 0.406, 'Tempo': 133.94}\n",
      "{'Track Name': '장미꽃 향기는 바람에 날리고 Rose Scent Breeze', 'Artists': 'Red Velvet', 'Album': 'The Velvet - The 2nd Mini Album', 'Release Date': '2016-03-17', 'Popularity': 36, 'Danceability': 0.41, 'Acousticness': 0.878, 'Loudness': -7.09, 'Energy': 0.333, 'Tempo': 127.791}\n",
      "{'Track Name': 'Try Again', 'Artists': 'JAEHYUN, d.ear', 'Album': 'Try Again - SM STATION', 'Release Date': '2017-11-24', 'Popularity': 76, 'Danceability': 0.435, 'Acousticness': 0.814, 'Loudness': -7.815, 'Energy': 0.352, 'Tempo': 85.82}\n",
      "{'Track Name': 'drunk', 'Artists': 'keshi', 'Album': 'always', 'Release Date': '2020-10-23', 'Popularity': 70, 'Danceability': 0.691, 'Acousticness': 0.765, 'Loudness': -8.247, 'Energy': 0.389, 'Tempo': 104.952}\n",
      "{'Track Name': \"When You're Gone\", 'Artists': 'Avril Lavigne', 'Album': 'The Best Damn Thing', 'Release Date': '2007-04-13', 'Popularity': 0, 'Danceability': 0.458, 'Acousticness': 0.189, 'Loudness': -3.921, 'Energy': 0.719, 'Tempo': 142.032}\n",
      "{'Track Name': 'Head Over Heels', 'Artists': 'Tears For Fears', 'Album': 'Rule The World: The Greatest Hits', 'Release Date': '2017-11-10', 'Popularity': 73, 'Danceability': 0.602, 'Acousticness': 0.502, 'Loudness': -4.251, 'Energy': 0.839, 'Tempo': 95.159}\n",
      "{'Track Name': '505', 'Artists': 'Arctic Monkeys', 'Album': 'Favourite Worst Nightmare', 'Release Date': '2007-04-22', 'Popularity': 87, 'Danceability': 0.526, 'Acousticness': 0.00287, 'Loudness': -5.822, 'Energy': 0.866, 'Tempo': 140.266}\n",
      "{'Track Name': 'Young And Beautiful', 'Artists': 'Lana Del Rey', 'Album': 'Young And Beautiful', 'Release Date': '2013-01-01', 'Popularity': 87, 'Danceability': 0.324, 'Acousticness': 0.262, 'Loudness': -8.92, 'Energy': 0.416, 'Tempo': 113.986}\n"
     ]
    }
   ],
   "source": [
    "# Cek fitur-fitur playlist \n",
    "for features in playlist_features:\n",
    "    print(features)"
   ]
  },
  {
   "cell_type": "code",
   "execution_count": 23,
   "metadata": {},
   "outputs": [],
   "source": [
    "# Lopping untuk setiap playlist ID & mengambil playlist features utk setiap playlist\n",
    "for playlist_id in playlist_ids:\n",
    "    playlist_features = get_playlist_features(playlist_id)"
   ]
  },
  {
   "cell_type": "code",
   "execution_count": 24,
   "metadata": {},
   "outputs": [],
   "source": [
    "# kita ingin membuat dataframe untuk menyimpan, visualisasi, dsb\n",
    "import pandas as pd"
   ]
  },
  {
   "cell_type": "code",
   "execution_count": 154,
   "metadata": {},
   "outputs": [
    {
     "data": {
      "text/html": [
       "<div>\n",
       "<style scoped>\n",
       "    .dataframe tbody tr th:only-of-type {\n",
       "        vertical-align: middle;\n",
       "    }\n",
       "\n",
       "    .dataframe tbody tr th {\n",
       "        vertical-align: top;\n",
       "    }\n",
       "\n",
       "    .dataframe thead th {\n",
       "        text-align: right;\n",
       "    }\n",
       "</style>\n",
       "<table border=\"1\" class=\"dataframe\">\n",
       "  <thead>\n",
       "    <tr style=\"text-align: right;\">\n",
       "      <th></th>\n",
       "      <th>Track Name</th>\n",
       "      <th>Artists</th>\n",
       "      <th>Album</th>\n",
       "      <th>Release Date</th>\n",
       "      <th>Popularity</th>\n",
       "      <th>Danceability</th>\n",
       "      <th>Acousticness</th>\n",
       "      <th>Loudness</th>\n",
       "      <th>Energy</th>\n",
       "      <th>Tempo</th>\n",
       "    </tr>\n",
       "  </thead>\n",
       "  <tbody>\n",
       "    <tr>\n",
       "      <th>0</th>\n",
       "      <td>Getaway Car</td>\n",
       "      <td>Taylor Swift</td>\n",
       "      <td>reputation</td>\n",
       "      <td>2017-11-10</td>\n",
       "      <td>88</td>\n",
       "      <td>0.562</td>\n",
       "      <td>0.004650</td>\n",
       "      <td>-6.745</td>\n",
       "      <td>0.689</td>\n",
       "      <td>172.054</td>\n",
       "    </tr>\n",
       "    <tr>\n",
       "      <th>1</th>\n",
       "      <td>Style</td>\n",
       "      <td>Taylor Swift</td>\n",
       "      <td>1989 (Deluxe)</td>\n",
       "      <td>2014-01-01</td>\n",
       "      <td>91</td>\n",
       "      <td>0.588</td>\n",
       "      <td>0.002450</td>\n",
       "      <td>-5.595</td>\n",
       "      <td>0.791</td>\n",
       "      <td>94.933</td>\n",
       "    </tr>\n",
       "    <tr>\n",
       "      <th>2</th>\n",
       "      <td>With you</td>\n",
       "      <td>Jimin, HA SUNG WOON</td>\n",
       "      <td>Our Blues, Pt. 4 (Original Television Soundtrack)</td>\n",
       "      <td>2022-04-24</td>\n",
       "      <td>75</td>\n",
       "      <td>0.532</td>\n",
       "      <td>0.639000</td>\n",
       "      <td>-6.117</td>\n",
       "      <td>0.426</td>\n",
       "      <td>149.898</td>\n",
       "    </tr>\n",
       "    <tr>\n",
       "      <th>3</th>\n",
       "      <td>Tek It</td>\n",
       "      <td>Cafuné</td>\n",
       "      <td>Running</td>\n",
       "      <td>2021-07-20</td>\n",
       "      <td>0</td>\n",
       "      <td>0.419</td>\n",
       "      <td>0.000076</td>\n",
       "      <td>-5.604</td>\n",
       "      <td>0.892</td>\n",
       "      <td>146.970</td>\n",
       "    </tr>\n",
       "    <tr>\n",
       "      <th>4</th>\n",
       "      <td>New Person, Same Old Mistakes</td>\n",
       "      <td>Tame Impala</td>\n",
       "      <td>Currents</td>\n",
       "      <td>2015-07-17</td>\n",
       "      <td>82</td>\n",
       "      <td>0.470</td>\n",
       "      <td>0.272000</td>\n",
       "      <td>-6.740</td>\n",
       "      <td>0.809</td>\n",
       "      <td>151.836</td>\n",
       "    </tr>\n",
       "    <tr>\n",
       "      <th>...</th>\n",
       "      <td>...</td>\n",
       "      <td>...</td>\n",
       "      <td>...</td>\n",
       "      <td>...</td>\n",
       "      <td>...</td>\n",
       "      <td>...</td>\n",
       "      <td>...</td>\n",
       "      <td>...</td>\n",
       "      <td>...</td>\n",
       "      <td>...</td>\n",
       "    </tr>\n",
       "    <tr>\n",
       "      <th>95</th>\n",
       "      <td>drunk</td>\n",
       "      <td>keshi</td>\n",
       "      <td>always</td>\n",
       "      <td>2020-10-23</td>\n",
       "      <td>70</td>\n",
       "      <td>0.691</td>\n",
       "      <td>0.765000</td>\n",
       "      <td>-8.247</td>\n",
       "      <td>0.389</td>\n",
       "      <td>104.952</td>\n",
       "    </tr>\n",
       "    <tr>\n",
       "      <th>96</th>\n",
       "      <td>When You're Gone</td>\n",
       "      <td>Avril Lavigne</td>\n",
       "      <td>The Best Damn Thing</td>\n",
       "      <td>2007-04-13</td>\n",
       "      <td>0</td>\n",
       "      <td>0.458</td>\n",
       "      <td>0.189000</td>\n",
       "      <td>-3.921</td>\n",
       "      <td>0.719</td>\n",
       "      <td>142.032</td>\n",
       "    </tr>\n",
       "    <tr>\n",
       "      <th>97</th>\n",
       "      <td>Head Over Heels</td>\n",
       "      <td>Tears For Fears</td>\n",
       "      <td>Rule The World: The Greatest Hits</td>\n",
       "      <td>2017-11-10</td>\n",
       "      <td>73</td>\n",
       "      <td>0.602</td>\n",
       "      <td>0.502000</td>\n",
       "      <td>-4.251</td>\n",
       "      <td>0.839</td>\n",
       "      <td>95.159</td>\n",
       "    </tr>\n",
       "    <tr>\n",
       "      <th>98</th>\n",
       "      <td>505</td>\n",
       "      <td>Arctic Monkeys</td>\n",
       "      <td>Favourite Worst Nightmare</td>\n",
       "      <td>2007-04-22</td>\n",
       "      <td>87</td>\n",
       "      <td>0.526</td>\n",
       "      <td>0.002870</td>\n",
       "      <td>-5.822</td>\n",
       "      <td>0.866</td>\n",
       "      <td>140.266</td>\n",
       "    </tr>\n",
       "    <tr>\n",
       "      <th>99</th>\n",
       "      <td>Young And Beautiful</td>\n",
       "      <td>Lana Del Rey</td>\n",
       "      <td>Young And Beautiful</td>\n",
       "      <td>2013-01-01</td>\n",
       "      <td>87</td>\n",
       "      <td>0.324</td>\n",
       "      <td>0.262000</td>\n",
       "      <td>-8.920</td>\n",
       "      <td>0.416</td>\n",
       "      <td>113.986</td>\n",
       "    </tr>\n",
       "  </tbody>\n",
       "</table>\n",
       "<p>100 rows × 10 columns</p>\n",
       "</div>"
      ],
      "text/plain": [
       "                       Track Name              Artists  \\\n",
       "0                     Getaway Car         Taylor Swift   \n",
       "1                           Style         Taylor Swift   \n",
       "2                        With you  Jimin, HA SUNG WOON   \n",
       "3                          Tek It               Cafuné   \n",
       "4   New Person, Same Old Mistakes          Tame Impala   \n",
       "..                            ...                  ...   \n",
       "95                          drunk                keshi   \n",
       "96               When You're Gone        Avril Lavigne   \n",
       "97                Head Over Heels      Tears For Fears   \n",
       "98                            505       Arctic Monkeys   \n",
       "99            Young And Beautiful         Lana Del Rey   \n",
       "\n",
       "                                                Album Release Date  \\\n",
       "0                                          reputation   2017-11-10   \n",
       "1                                       1989 (Deluxe)   2014-01-01   \n",
       "2   Our Blues, Pt. 4 (Original Television Soundtrack)   2022-04-24   \n",
       "3                                             Running   2021-07-20   \n",
       "4                                            Currents   2015-07-17   \n",
       "..                                                ...          ...   \n",
       "95                                             always   2020-10-23   \n",
       "96                                The Best Damn Thing   2007-04-13   \n",
       "97                  Rule The World: The Greatest Hits   2017-11-10   \n",
       "98                          Favourite Worst Nightmare   2007-04-22   \n",
       "99                                Young And Beautiful   2013-01-01   \n",
       "\n",
       "    Popularity  Danceability  Acousticness  Loudness  Energy    Tempo  \n",
       "0           88         0.562      0.004650    -6.745   0.689  172.054  \n",
       "1           91         0.588      0.002450    -5.595   0.791   94.933  \n",
       "2           75         0.532      0.639000    -6.117   0.426  149.898  \n",
       "3            0         0.419      0.000076    -5.604   0.892  146.970  \n",
       "4           82         0.470      0.272000    -6.740   0.809  151.836  \n",
       "..         ...           ...           ...       ...     ...      ...  \n",
       "95          70         0.691      0.765000    -8.247   0.389  104.952  \n",
       "96           0         0.458      0.189000    -3.921   0.719  142.032  \n",
       "97          73         0.602      0.502000    -4.251   0.839   95.159  \n",
       "98          87         0.526      0.002870    -5.822   0.866  140.266  \n",
       "99          87         0.324      0.262000    -8.920   0.416  113.986  \n",
       "\n",
       "[100 rows x 10 columns]"
      ]
     },
     "execution_count": 154,
     "metadata": {},
     "output_type": "execute_result"
    }
   ],
   "source": [
    "# Buat container utk menyimpan semua fitur playlist, lalu buat dataframe\n",
    "all_playlist_features = []\n",
    "\n",
    "for playlist_id in playlist_ids:\n",
    "    # Memanggil function get_playlist_features utk mengambil fitur pada playlist ID\n",
    "    playlist_features = get_playlist_features(playlist_id)\n",
    "    # Penambahan untuk playlist_features ke all_playlist_features\n",
    "    all_playlist_features.extend(playlist_features)\n",
    "\n",
    "# Buat dataframenya\n",
    "df = pd.DataFrame(all_playlist_features)\n",
    "df"
   ]
  },
  {
   "cell_type": "code",
   "execution_count": 26,
   "metadata": {},
   "outputs": [
    {
     "name": "stdout",
     "output_type": "stream",
     "text": [
      "Dataset saved to spotify_playlist.csv\n"
     ]
    }
   ],
   "source": [
    "# Menyimpan dataset ke format csv\n",
    "csv_filename = 'spotify_playlist.csv'\n",
    "df.to_csv(csv_filename, sep=',')\n",
    "\n",
    "print(f\"Dataset saved to {csv_filename}\")"
   ]
  },
  {
   "cell_type": "code",
   "execution_count": 27,
   "metadata": {},
   "outputs": [
    {
     "name": "stdout",
     "output_type": "stream",
     "text": [
      "Defaulting to user installation because normal site-packages is not writeable\n",
      "Requirement already satisfied: openpyxl in c:\\users\\andre\\appdata\\roaming\\python\\python39\\site-packages (3.1.2)\n",
      "Requirement already satisfied: et-xmlfile in c:\\users\\andre\\appdata\\roaming\\python\\python39\\site-packages (from openpyxl) (1.1.0)\n"
     ]
    }
   ],
   "source": [
    "# Library yg diperlukan utk Excel di Pandas, seperti utk membaca atau menulis di file Excel.\n",
    "!pip3 install openpyxl"
   ]
  },
  {
   "cell_type": "code",
   "execution_count": 28,
   "metadata": {},
   "outputs": [
    {
     "name": "stdout",
     "output_type": "stream",
     "text": [
      "Dataset saved to myplaylist_data.xlsx\n"
     ]
    }
   ],
   "source": [
    "# Menyimpan ke file Excel \n",
    "excel_filename = 'myplaylist_data.xlsx'\n",
    "df.to_excel(excel_filename, index=False)\n",
    "\n",
    "print(f\"Dataset saved to {excel_filename}\")"
   ]
  },
  {
   "cell_type": "code",
   "execution_count": 29,
   "metadata": {},
   "outputs": [
    {
     "data": {
      "text/html": [
       "<div>\n",
       "<style scoped>\n",
       "    .dataframe tbody tr th:only-of-type {\n",
       "        vertical-align: middle;\n",
       "    }\n",
       "\n",
       "    .dataframe tbody tr th {\n",
       "        vertical-align: top;\n",
       "    }\n",
       "\n",
       "    .dataframe thead th {\n",
       "        text-align: right;\n",
       "    }\n",
       "</style>\n",
       "<table border=\"1\" class=\"dataframe\">\n",
       "  <thead>\n",
       "    <tr style=\"text-align: right;\">\n",
       "      <th></th>\n",
       "      <th>Unnamed: 0</th>\n",
       "      <th>Track Name</th>\n",
       "      <th>Artists</th>\n",
       "      <th>Album</th>\n",
       "      <th>Release Date</th>\n",
       "      <th>Popularity</th>\n",
       "      <th>Danceability</th>\n",
       "      <th>Acousticness</th>\n",
       "      <th>Loudness</th>\n",
       "      <th>Energy</th>\n",
       "      <th>Tempo</th>\n",
       "    </tr>\n",
       "  </thead>\n",
       "  <tbody>\n",
       "    <tr>\n",
       "      <th>0</th>\n",
       "      <td>0</td>\n",
       "      <td>Getaway Car</td>\n",
       "      <td>Taylor Swift</td>\n",
       "      <td>reputation</td>\n",
       "      <td>2017-11-10</td>\n",
       "      <td>87</td>\n",
       "      <td>0.562</td>\n",
       "      <td>0.004650</td>\n",
       "      <td>-6.745</td>\n",
       "      <td>0.689</td>\n",
       "      <td>172.054</td>\n",
       "    </tr>\n",
       "    <tr>\n",
       "      <th>1</th>\n",
       "      <td>1</td>\n",
       "      <td>Style</td>\n",
       "      <td>Taylor Swift</td>\n",
       "      <td>1989 (Deluxe)</td>\n",
       "      <td>2014-01-01</td>\n",
       "      <td>91</td>\n",
       "      <td>0.588</td>\n",
       "      <td>0.002450</td>\n",
       "      <td>-5.595</td>\n",
       "      <td>0.791</td>\n",
       "      <td>94.933</td>\n",
       "    </tr>\n",
       "    <tr>\n",
       "      <th>2</th>\n",
       "      <td>2</td>\n",
       "      <td>With you</td>\n",
       "      <td>Jimin, HA SUNG WOON</td>\n",
       "      <td>Our Blues, Pt. 4 (Original Television Soundtrack)</td>\n",
       "      <td>2022-04-24</td>\n",
       "      <td>75</td>\n",
       "      <td>0.532</td>\n",
       "      <td>0.639000</td>\n",
       "      <td>-6.117</td>\n",
       "      <td>0.426</td>\n",
       "      <td>149.898</td>\n",
       "    </tr>\n",
       "    <tr>\n",
       "      <th>3</th>\n",
       "      <td>3</td>\n",
       "      <td>Tek It</td>\n",
       "      <td>Cafuné</td>\n",
       "      <td>Running</td>\n",
       "      <td>2021-07-20</td>\n",
       "      <td>0</td>\n",
       "      <td>0.419</td>\n",
       "      <td>0.000076</td>\n",
       "      <td>-5.604</td>\n",
       "      <td>0.892</td>\n",
       "      <td>146.970</td>\n",
       "    </tr>\n",
       "    <tr>\n",
       "      <th>4</th>\n",
       "      <td>4</td>\n",
       "      <td>New Person, Same Old Mistakes</td>\n",
       "      <td>Tame Impala</td>\n",
       "      <td>Currents</td>\n",
       "      <td>2015-07-17</td>\n",
       "      <td>82</td>\n",
       "      <td>0.470</td>\n",
       "      <td>0.272000</td>\n",
       "      <td>-6.740</td>\n",
       "      <td>0.809</td>\n",
       "      <td>151.836</td>\n",
       "    </tr>\n",
       "    <tr>\n",
       "      <th>5</th>\n",
       "      <td>5</td>\n",
       "      <td>Beg For Me</td>\n",
       "      <td>Red Velvet</td>\n",
       "      <td>‘The ReVe Festival 2022 - Feel My Rhythm’</td>\n",
       "      <td>2022-03-21</td>\n",
       "      <td>54</td>\n",
       "      <td>0.713</td>\n",
       "      <td>0.171000</td>\n",
       "      <td>-3.074</td>\n",
       "      <td>0.796</td>\n",
       "      <td>146.986</td>\n",
       "    </tr>\n",
       "    <tr>\n",
       "      <th>6</th>\n",
       "      <td>6</td>\n",
       "      <td>BAMBOLEO</td>\n",
       "      <td>Red Velvet</td>\n",
       "      <td>‘The ReVe Festival 2022 - Feel My Rhythm’</td>\n",
       "      <td>2022-03-21</td>\n",
       "      <td>59</td>\n",
       "      <td>0.652</td>\n",
       "      <td>0.029600</td>\n",
       "      <td>-3.322</td>\n",
       "      <td>0.880</td>\n",
       "      <td>107.950</td>\n",
       "    </tr>\n",
       "    <tr>\n",
       "      <th>7</th>\n",
       "      <td>7</td>\n",
       "      <td>See You Again (feat. Kali Uchis)</td>\n",
       "      <td>Tyler, The Creator, Kali Uchis</td>\n",
       "      <td>Flower Boy</td>\n",
       "      <td>2017-07-21</td>\n",
       "      <td>93</td>\n",
       "      <td>0.558</td>\n",
       "      <td>0.371000</td>\n",
       "      <td>-9.222</td>\n",
       "      <td>0.559</td>\n",
       "      <td>78.558</td>\n",
       "    </tr>\n",
       "    <tr>\n",
       "      <th>8</th>\n",
       "      <td>8</td>\n",
       "      <td>Disenchanted</td>\n",
       "      <td>My Chemical Romance</td>\n",
       "      <td>The Black Parade</td>\n",
       "      <td>2006-10-23</td>\n",
       "      <td>78</td>\n",
       "      <td>0.343</td>\n",
       "      <td>0.002180</td>\n",
       "      <td>-3.926</td>\n",
       "      <td>0.692</td>\n",
       "      <td>174.070</td>\n",
       "    </tr>\n",
       "    <tr>\n",
       "      <th>9</th>\n",
       "      <td>9</td>\n",
       "      <td>Baby Came Home 2 / Valentines</td>\n",
       "      <td>The Neighbourhood</td>\n",
       "      <td>Wiped Out!</td>\n",
       "      <td>2015-10-30</td>\n",
       "      <td>70</td>\n",
       "      <td>0.210</td>\n",
       "      <td>0.068700</td>\n",
       "      <td>-9.754</td>\n",
       "      <td>0.499</td>\n",
       "      <td>74.094</td>\n",
       "    </tr>\n",
       "  </tbody>\n",
       "</table>\n",
       "</div>"
      ],
      "text/plain": [
       "   Unnamed: 0                        Track Name  \\\n",
       "0           0                       Getaway Car   \n",
       "1           1                             Style   \n",
       "2           2                          With you   \n",
       "3           3                            Tek It   \n",
       "4           4     New Person, Same Old Mistakes   \n",
       "5           5                        Beg For Me   \n",
       "6           6                          BAMBOLEO   \n",
       "7           7  See You Again (feat. Kali Uchis)   \n",
       "8           8                      Disenchanted   \n",
       "9           9     Baby Came Home 2 / Valentines   \n",
       "\n",
       "                          Artists  \\\n",
       "0                    Taylor Swift   \n",
       "1                    Taylor Swift   \n",
       "2             Jimin, HA SUNG WOON   \n",
       "3                          Cafuné   \n",
       "4                     Tame Impala   \n",
       "5                      Red Velvet   \n",
       "6                      Red Velvet   \n",
       "7  Tyler, The Creator, Kali Uchis   \n",
       "8             My Chemical Romance   \n",
       "9               The Neighbourhood   \n",
       "\n",
       "                                               Album Release Date  Popularity  \\\n",
       "0                                         reputation   2017-11-10          87   \n",
       "1                                      1989 (Deluxe)   2014-01-01          91   \n",
       "2  Our Blues, Pt. 4 (Original Television Soundtrack)   2022-04-24          75   \n",
       "3                                            Running   2021-07-20           0   \n",
       "4                                           Currents   2015-07-17          82   \n",
       "5          ‘The ReVe Festival 2022 - Feel My Rhythm’   2022-03-21          54   \n",
       "6          ‘The ReVe Festival 2022 - Feel My Rhythm’   2022-03-21          59   \n",
       "7                                         Flower Boy   2017-07-21          93   \n",
       "8                                   The Black Parade   2006-10-23          78   \n",
       "9                                         Wiped Out!   2015-10-30          70   \n",
       "\n",
       "   Danceability  Acousticness  Loudness  Energy    Tempo  \n",
       "0         0.562      0.004650    -6.745   0.689  172.054  \n",
       "1         0.588      0.002450    -5.595   0.791   94.933  \n",
       "2         0.532      0.639000    -6.117   0.426  149.898  \n",
       "3         0.419      0.000076    -5.604   0.892  146.970  \n",
       "4         0.470      0.272000    -6.740   0.809  151.836  \n",
       "5         0.713      0.171000    -3.074   0.796  146.986  \n",
       "6         0.652      0.029600    -3.322   0.880  107.950  \n",
       "7         0.558      0.371000    -9.222   0.559   78.558  \n",
       "8         0.343      0.002180    -3.926   0.692  174.070  \n",
       "9         0.210      0.068700    -9.754   0.499   74.094  "
      ]
     },
     "execution_count": 29,
     "metadata": {},
     "output_type": "execute_result"
    }
   ],
   "source": [
    "# Menampilkan 10 data teratas\n",
    "playlist = pd.read_csv(\"spotify_playlist.csv\")\n",
    "playlist.head(10)"
   ]
  },
  {
   "cell_type": "code",
   "execution_count": 30,
   "metadata": {},
   "outputs": [
    {
     "data": {
      "text/plain": [
       "Artists       Taylor Swift\n",
       "Track Name     Getaway Car\n",
       "Name: 0, dtype: object"
      ]
     },
     "execution_count": 30,
     "metadata": {},
     "output_type": "execute_result"
    }
   ],
   "source": [
    "# Menampilkan nama penyanyi dan lagu di urutan pertama pada playlist \n",
    "df [['Artists', 'Track Name']].iloc[0]"
   ]
  },
  {
   "cell_type": "markdown",
   "metadata": {},
   "source": [
    "## MENGAMBIL INFO GENRE PADA LAGU"
   ]
  },
  {
   "cell_type": "code",
   "execution_count": 140,
   "metadata": {},
   "outputs": [],
   "source": [
    "# Nama lagu dan penyanyi yang ingin kita cari tahu genrenya (menggunakan Spotify API)\n",
    "track_name = 'Psycho'\n",
    "artist_name = 'Red Velvet'"
   ]
  },
  {
   "cell_type": "code",
   "execution_count": 142,
   "metadata": {},
   "outputs": [],
   "source": [
    "# Track ID yang ingin diambil\n",
    "track_id = 'spotify:track:3CYH422oy1cZNoo0GTG1TK'\n",
    "\n",
    "# Mengambil detail lagu\n",
    "track = sp.track(track_id)\n",
    "# dictionary track utk daftar penyanyi\n",
    "artists = track['artists']\n",
    "\n",
    "# Mengambil detail penyanyi dgn list comprehension & extract genre \n",
    "artist_ids = [artist['id'] for artist in artists]\n",
    "artist_details = sp.artists(artist_ids)\n",
    "\n",
    "# menggunakan set (iterable) \n",
    "genres = set()\n",
    "\n",
    "for artist_detail in artist_details['artists']:\n",
    "    genres.update(artist_detail['genres'])\n"
   ]
  },
  {
   "cell_type": "code",
   "execution_count": 143,
   "metadata": {},
   "outputs": [
    {
     "name": "stdout",
     "output_type": "stream",
     "text": [
      "Genres for the track:\n",
      "k-pop\n",
      "k-pop girl group\n"
     ]
    }
   ],
   "source": [
    "print(\"Genres for the track:\")\n",
    "for genre in genres:\n",
    "    print(genre)"
   ]
  },
  {
   "cell_type": "markdown",
   "metadata": {},
   "source": [
    "## VISUALISASI DATA"
   ]
  },
  {
   "cell_type": "code",
   "execution_count": 32,
   "metadata": {},
   "outputs": [
    {
     "name": "stdout",
     "output_type": "stream",
     "text": [
      "Defaulting to user installation because normal site-packages is not writeable\n",
      "Requirement already satisfied: seaborn in c:\\users\\andre\\appdata\\roaming\\python\\python39\\site-packages (0.12.2)\n",
      "Requirement already satisfied: numpy!=1.24.0,>=1.17 in c:\\users\\andre\\appdata\\roaming\\python\\python39\\site-packages (from seaborn) (1.20.1)\n",
      "Requirement already satisfied: pandas>=0.25 in c:\\users\\andre\\appdata\\roaming\\python\\python39\\site-packages (from seaborn) (1.2.3)\n",
      "Requirement already satisfied: matplotlib!=3.6.1,>=3.1 in c:\\users\\andre\\appdata\\roaming\\python\\python39\\site-packages (from seaborn) (3.7.1)\n",
      "Requirement already satisfied: contourpy>=1.0.1 in c:\\users\\andre\\appdata\\roaming\\python\\python39\\site-packages (from matplotlib!=3.6.1,>=3.1->seaborn) (1.0.7)\n",
      "Requirement already satisfied: cycler>=0.10 in c:\\users\\andre\\appdata\\roaming\\python\\python39\\site-packages (from matplotlib!=3.6.1,>=3.1->seaborn) (0.11.0)\n",
      "Requirement already satisfied: fonttools>=4.22.0 in c:\\users\\andre\\appdata\\roaming\\python\\python39\\site-packages (from matplotlib!=3.6.1,>=3.1->seaborn) (4.39.4)\n",
      "Requirement already satisfied: kiwisolver>=1.0.1 in c:\\users\\andre\\appdata\\roaming\\python\\python39\\site-packages (from matplotlib!=3.6.1,>=3.1->seaborn) (1.4.4)\n",
      "Requirement already satisfied: packaging>=20.0 in c:\\users\\andre\\appdata\\roaming\\python\\python39\\site-packages (from matplotlib!=3.6.1,>=3.1->seaborn) (20.9)\n",
      "Requirement already satisfied: pillow>=6.2.0 in c:\\users\\andre\\appdata\\roaming\\python\\python39\\site-packages (from matplotlib!=3.6.1,>=3.1->seaborn) (9.5.0)\n",
      "Requirement already satisfied: pyparsing>=2.3.1 in c:\\users\\andre\\appdata\\roaming\\python\\python39\\site-packages (from matplotlib!=3.6.1,>=3.1->seaborn) (2.4.7)\n",
      "Requirement already satisfied: python-dateutil>=2.7 in c:\\users\\andre\\appdata\\roaming\\python\\python39\\site-packages (from matplotlib!=3.6.1,>=3.1->seaborn) (2.8.1)\n",
      "Requirement already satisfied: importlib-resources>=3.2.0 in c:\\users\\andre\\appdata\\roaming\\python\\python39\\site-packages (from matplotlib!=3.6.1,>=3.1->seaborn) (5.12.0)\n",
      "Requirement already satisfied: pytz>=2017.3 in c:\\users\\andre\\appdata\\roaming\\python\\python39\\site-packages (from pandas>=0.25->seaborn) (2021.1)\n",
      "Requirement already satisfied: zipp>=3.1.0 in c:\\users\\andre\\appdata\\roaming\\python\\python39\\site-packages (from importlib-resources>=3.2.0->matplotlib!=3.6.1,>=3.1->seaborn) (3.15.0)\n",
      "Requirement already satisfied: six>=1.5 in c:\\users\\andre\\appdata\\roaming\\python\\python39\\site-packages (from python-dateutil>=2.7->matplotlib!=3.6.1,>=3.1->seaborn) (1.15.0)\n"
     ]
    }
   ],
   "source": [
    "# Library utk Correlation Matrix\n",
    "!pip3 install seaborn"
   ]
  },
  {
   "cell_type": "code",
   "execution_count": 33,
   "metadata": {},
   "outputs": [],
   "source": [
    "# Library utk visualisasi\n",
    "import seaborn as sns"
   ]
  },
  {
   "cell_type": "code",
   "execution_count": 34,
   "metadata": {},
   "outputs": [
    {
     "data": {
      "text/html": [
       "<div>\n",
       "<style scoped>\n",
       "    .dataframe tbody tr th:only-of-type {\n",
       "        vertical-align: middle;\n",
       "    }\n",
       "\n",
       "    .dataframe tbody tr th {\n",
       "        vertical-align: top;\n",
       "    }\n",
       "\n",
       "    .dataframe thead th {\n",
       "        text-align: right;\n",
       "    }\n",
       "</style>\n",
       "<table border=\"1\" class=\"dataframe\">\n",
       "  <thead>\n",
       "    <tr style=\"text-align: right;\">\n",
       "      <th></th>\n",
       "      <th>Popularity</th>\n",
       "      <th>Danceability</th>\n",
       "      <th>Acousticness</th>\n",
       "      <th>Loudness</th>\n",
       "      <th>Energy</th>\n",
       "      <th>Tempo</th>\n",
       "    </tr>\n",
       "  </thead>\n",
       "  <tbody>\n",
       "    <tr>\n",
       "      <th>Popularity</th>\n",
       "      <td>1.000000</td>\n",
       "      <td>-0.037395</td>\n",
       "      <td>-0.033723</td>\n",
       "      <td>0.097232</td>\n",
       "      <td>0.059532</td>\n",
       "      <td>-0.059524</td>\n",
       "    </tr>\n",
       "    <tr>\n",
       "      <th>Danceability</th>\n",
       "      <td>-0.037395</td>\n",
       "      <td>1.000000</td>\n",
       "      <td>-0.134250</td>\n",
       "      <td>0.185835</td>\n",
       "      <td>0.115542</td>\n",
       "      <td>-0.203076</td>\n",
       "    </tr>\n",
       "    <tr>\n",
       "      <th>Acousticness</th>\n",
       "      <td>-0.033723</td>\n",
       "      <td>-0.134250</td>\n",
       "      <td>1.000000</td>\n",
       "      <td>-0.407500</td>\n",
       "      <td>-0.616457</td>\n",
       "      <td>-0.168047</td>\n",
       "    </tr>\n",
       "    <tr>\n",
       "      <th>Loudness</th>\n",
       "      <td>0.097232</td>\n",
       "      <td>0.185835</td>\n",
       "      <td>-0.407500</td>\n",
       "      <td>1.000000</td>\n",
       "      <td>0.710974</td>\n",
       "      <td>0.127797</td>\n",
       "    </tr>\n",
       "    <tr>\n",
       "      <th>Energy</th>\n",
       "      <td>0.059532</td>\n",
       "      <td>0.115542</td>\n",
       "      <td>-0.616457</td>\n",
       "      <td>0.710974</td>\n",
       "      <td>1.000000</td>\n",
       "      <td>0.223367</td>\n",
       "    </tr>\n",
       "    <tr>\n",
       "      <th>Tempo</th>\n",
       "      <td>-0.059524</td>\n",
       "      <td>-0.203076</td>\n",
       "      <td>-0.168047</td>\n",
       "      <td>0.127797</td>\n",
       "      <td>0.223367</td>\n",
       "      <td>1.000000</td>\n",
       "    </tr>\n",
       "  </tbody>\n",
       "</table>\n",
       "</div>"
      ],
      "text/plain": [
       "              Popularity  Danceability  Acousticness  Loudness    Energy  \\\n",
       "Popularity      1.000000     -0.037395     -0.033723  0.097232  0.059532   \n",
       "Danceability   -0.037395      1.000000     -0.134250  0.185835  0.115542   \n",
       "Acousticness   -0.033723     -0.134250      1.000000 -0.407500 -0.616457   \n",
       "Loudness        0.097232      0.185835     -0.407500  1.000000  0.710974   \n",
       "Energy          0.059532      0.115542     -0.616457  0.710974  1.000000   \n",
       "Tempo          -0.059524     -0.203076     -0.168047  0.127797  0.223367   \n",
       "\n",
       "                 Tempo  \n",
       "Popularity   -0.059524  \n",
       "Danceability -0.203076  \n",
       "Acousticness -0.168047  \n",
       "Loudness      0.127797  \n",
       "Energy        0.223367  \n",
       "Tempo         1.000000  "
      ]
     },
     "execution_count": 34,
     "metadata": {},
     "output_type": "execute_result"
    }
   ],
   "source": [
    "# 1 = korelasi positif sempurna, -1 = korelasi negatif sempurna, 0 = tidak ada korelasi\n",
    "corr_matrix = df.corr()\n",
    "corr_matrix"
   ]
  },
  {
   "cell_type": "code",
   "execution_count": 35,
   "metadata": {},
   "outputs": [],
   "source": [
    "# Library utk visualisasi\n",
    "import matplotlib.pyplot as plt"
   ]
  },
  {
   "cell_type": "code",
   "execution_count": 36,
   "metadata": {},
   "outputs": [
    {
     "data": {
      "image/png": "[encoded data removed]",
      "text/plain": [
       "<Figure size 576x432 with 2 Axes>"
      ]
     },
     "metadata": {
      "needs_background": "light"
     },
     "output_type": "display_data"
    }
   ],
   "source": [
    "# Plotting\n",
    "plt.figure(figsize=(8, 6))\n",
    "sns.heatmap(corr_matrix, annot=True, cmap='coolwarm', center=0, fmt=\".1%\", annot_kws={\"size\": 12})\n",
    "plt.title('Correlation Matrix: Popularity and Audio Features')\n",
    "plt.show()"
   ]
  },
  {
   "cell_type": "markdown",
   "metadata": {},
   "source": [
    "## Visualisasi bagaimana jumlah lagu bervariasi dari waktu ke waktu"
   ]
  },
  {
   "cell_type": "code",
   "execution_count": 169,
   "metadata": {},
   "outputs": [],
   "source": [
    "# Extract tahun(year) dari 'Release Date'\n",
    "df['Release Year'] = df['Release Date'].dt.year\n",
    "df['Release Year']\n",
    "\n",
    "# Menggunakan group by utk menggabungkan lagu dari tahun rilis\n",
    "track_count_by_year = df.groupby('Release Year').size()\n"
   ]
  },
  {
   "cell_type": "code",
   "execution_count": 170,
   "metadata": {},
   "outputs": [
    {
     "data": {
      "image/png": "[encoded data removed]",
      "text/plain": [
       "<Figure size 1080x720 with 1 Axes>"
      ]
     },
     "metadata": {
      "needs_background": "light"
     },
     "output_type": "display_data"
    }
   ],
   "source": [
    "# Plotting [Line Plot]\n",
    "plt.figure(figsize=(15, 10))\n",
    "plt.plot(track_count_by_year.index, track_count_by_year.values, marker='o')\n",
    "plt.xlabel('Release Year')\n",
    "plt.ylabel('Number of Tracks')\n",
    "plt.title('Number of Tracks Over Time by Year')\n",
    "plt.xticks(rotation=45)\n",
    "plt.tight_layout()\n",
    "plt.show()"
   ]
  },
  {
   "cell_type": "markdown",
   "metadata": {},
   "source": [
    "## Visualisasi Top Artist dari Jumlah Kemunculan setiap Penyanyi pada Playlist"
   ]
  },
  {
   "cell_type": "code",
   "execution_count": 37,
   "metadata": {},
   "outputs": [
    {
     "data": {
      "text/plain": [
       "Red Velvet           8\n",
       "Lana Del Rey         8\n",
       "Taylor Swift         7\n",
       "The Weeknd           4\n",
       "Sheila On 7          4\n",
       "                    ..\n",
       "Natalie Imbruglia    1\n",
       "Jonas Brothers       1\n",
       "GOON DES GARCONS*    1\n",
       "IV Of Spades         1\n",
       "Jimin                1\n",
       "Name: Artists, Length: 74, dtype: int64"
      ]
     },
     "execution_count": 37,
     "metadata": {},
     "output_type": "execute_result"
    }
   ],
   "source": [
    "# Menghitung jumlah kemunculan setiap artis/penyanyi\n",
    "top_artists = df['Artists'].str.split(', ').explode().value_counts()\n",
    "top_artists"
   ]
  },
  {
   "cell_type": "code",
   "execution_count": 38,
   "metadata": {},
   "outputs": [
    {
     "data": {
      "image/png": "[encoded data removed]",
      "text/plain": [
       "<Figure size 864x432 with 1 Axes>"
      ]
     },
     "metadata": {
      "needs_background": "light"
     },
     "output_type": "display_data"
    }
   ],
   "source": [
    "# Plotting [Bar Chart]\n",
    "plt.figure(figsize=(12, 6))\n",
    "top_artists[:10].plot(kind='bar', color='green')\n",
    "plt.xlabel('Artists')\n",
    "plt.ylabel('Frequency')\n",
    "plt.title('Top Collaborators')\n",
    "plt.xticks(rotation=45)\n",
    "plt.tight_layout()\n",
    "plt.show()"
   ]
  },
  {
   "cell_type": "markdown",
   "metadata": {},
   "source": [
    "## Visualisasi 10 Most Popular Songs & Artist pada Playlist"
   ]
  },
  {
   "cell_type": "code",
   "execution_count": 173,
   "metadata": {},
   "outputs": [
    {
     "data": {
      "text/html": [
       "<div>\n",
       "<style scoped>\n",
       "    .dataframe tbody tr th:only-of-type {\n",
       "        vertical-align: middle;\n",
       "    }\n",
       "\n",
       "    .dataframe tbody tr th {\n",
       "        vertical-align: top;\n",
       "    }\n",
       "\n",
       "    .dataframe thead th {\n",
       "        text-align: right;\n",
       "    }\n",
       "</style>\n",
       "<table border=\"1\" class=\"dataframe\">\n",
       "  <thead>\n",
       "    <tr style=\"text-align: right;\">\n",
       "      <th></th>\n",
       "      <th>Track Name</th>\n",
       "      <th>Artists</th>\n",
       "      <th>Album</th>\n",
       "      <th>Release Date</th>\n",
       "      <th>Popularity</th>\n",
       "      <th>Danceability</th>\n",
       "      <th>Acousticness</th>\n",
       "      <th>Loudness</th>\n",
       "      <th>Energy</th>\n",
       "      <th>Tempo</th>\n",
       "      <th>Release Year</th>\n",
       "    </tr>\n",
       "  </thead>\n",
       "  <tbody>\n",
       "    <tr>\n",
       "      <th>61</th>\n",
       "      <td>Cruel Summer</td>\n",
       "      <td>Taylor Swift</td>\n",
       "      <td>Lover</td>\n",
       "      <td>2019-08-23</td>\n",
       "      <td>99</td>\n",
       "      <td>0.552</td>\n",
       "      <td>0.11700</td>\n",
       "      <td>-5.707</td>\n",
       "      <td>0.702</td>\n",
       "      <td>169.994</td>\n",
       "      <td>2019</td>\n",
       "    </tr>\n",
       "    <tr>\n",
       "      <th>7</th>\n",
       "      <td>See You Again (feat. Kali Uchis)</td>\n",
       "      <td>Tyler, The Creator, Kali Uchis</td>\n",
       "      <td>Flower Boy</td>\n",
       "      <td>2017-07-21</td>\n",
       "      <td>93</td>\n",
       "      <td>0.558</td>\n",
       "      <td>0.37100</td>\n",
       "      <td>-9.222</td>\n",
       "      <td>0.559</td>\n",
       "      <td>78.558</td>\n",
       "      <td>2017</td>\n",
       "    </tr>\n",
       "    <tr>\n",
       "      <th>1</th>\n",
       "      <td>Style</td>\n",
       "      <td>Taylor Swift</td>\n",
       "      <td>1989 (Deluxe)</td>\n",
       "      <td>2014-01-01</td>\n",
       "      <td>91</td>\n",
       "      <td>0.588</td>\n",
       "      <td>0.00245</td>\n",
       "      <td>-5.595</td>\n",
       "      <td>0.791</td>\n",
       "      <td>94.933</td>\n",
       "      <td>2014</td>\n",
       "    </tr>\n",
       "    <tr>\n",
       "      <th>0</th>\n",
       "      <td>Getaway Car</td>\n",
       "      <td>Taylor Swift</td>\n",
       "      <td>reputation</td>\n",
       "      <td>2017-11-10</td>\n",
       "      <td>88</td>\n",
       "      <td>0.562</td>\n",
       "      <td>0.00465</td>\n",
       "      <td>-6.745</td>\n",
       "      <td>0.689</td>\n",
       "      <td>172.054</td>\n",
       "      <td>2017</td>\n",
       "    </tr>\n",
       "    <tr>\n",
       "      <th>64</th>\n",
       "      <td>Call Out My Name</td>\n",
       "      <td>The Weeknd</td>\n",
       "      <td>My Dear Melancholy,</td>\n",
       "      <td>2018-03-30</td>\n",
       "      <td>88</td>\n",
       "      <td>0.461</td>\n",
       "      <td>0.17000</td>\n",
       "      <td>-4.954</td>\n",
       "      <td>0.593</td>\n",
       "      <td>134.170</td>\n",
       "      <td>2018</td>\n",
       "    </tr>\n",
       "    <tr>\n",
       "      <th>98</th>\n",
       "      <td>505</td>\n",
       "      <td>Arctic Monkeys</td>\n",
       "      <td>Favourite Worst Nightmare</td>\n",
       "      <td>2007-04-22</td>\n",
       "      <td>87</td>\n",
       "      <td>0.526</td>\n",
       "      <td>0.00287</td>\n",
       "      <td>-5.822</td>\n",
       "      <td>0.866</td>\n",
       "      <td>140.266</td>\n",
       "      <td>2007</td>\n",
       "    </tr>\n",
       "    <tr>\n",
       "      <th>27</th>\n",
       "      <td>Summertime Sadness</td>\n",
       "      <td>Lana Del Rey</td>\n",
       "      <td>Born To Die - The Paradise Edition</td>\n",
       "      <td>2012-01-01</td>\n",
       "      <td>87</td>\n",
       "      <td>0.565</td>\n",
       "      <td>0.05420</td>\n",
       "      <td>-6.826</td>\n",
       "      <td>0.654</td>\n",
       "      <td>111.968</td>\n",
       "      <td>2012</td>\n",
       "    </tr>\n",
       "    <tr>\n",
       "      <th>99</th>\n",
       "      <td>Young And Beautiful</td>\n",
       "      <td>Lana Del Rey</td>\n",
       "      <td>Young And Beautiful</td>\n",
       "      <td>2013-01-01</td>\n",
       "      <td>87</td>\n",
       "      <td>0.324</td>\n",
       "      <td>0.26200</td>\n",
       "      <td>-8.920</td>\n",
       "      <td>0.416</td>\n",
       "      <td>113.986</td>\n",
       "      <td>2013</td>\n",
       "    </tr>\n",
       "    <tr>\n",
       "      <th>59</th>\n",
       "      <td>Is There Someone Else?</td>\n",
       "      <td>The Weeknd</td>\n",
       "      <td>Dawn FM</td>\n",
       "      <td>2022-01-06</td>\n",
       "      <td>86</td>\n",
       "      <td>0.702</td>\n",
       "      <td>0.03880</td>\n",
       "      <td>-7.830</td>\n",
       "      <td>0.586</td>\n",
       "      <td>134.951</td>\n",
       "      <td>2022</td>\n",
       "    </tr>\n",
       "    <tr>\n",
       "      <th>71</th>\n",
       "      <td>West Coast</td>\n",
       "      <td>Lana Del Rey</td>\n",
       "      <td>Ultraviolence (Deluxe)</td>\n",
       "      <td>2014-01-01</td>\n",
       "      <td>86</td>\n",
       "      <td>0.527</td>\n",
       "      <td>0.19400</td>\n",
       "      <td>-7.664</td>\n",
       "      <td>0.591</td>\n",
       "      <td>123.167</td>\n",
       "      <td>2014</td>\n",
       "    </tr>\n",
       "  </tbody>\n",
       "</table>\n",
       "</div>"
      ],
      "text/plain": [
       "                          Track Name                         Artists  \\\n",
       "61                      Cruel Summer                    Taylor Swift   \n",
       "7   See You Again (feat. Kali Uchis)  Tyler, The Creator, Kali Uchis   \n",
       "1                              Style                    Taylor Swift   \n",
       "0                        Getaway Car                    Taylor Swift   \n",
       "64                  Call Out My Name                      The Weeknd   \n",
       "98                               505                  Arctic Monkeys   \n",
       "27                Summertime Sadness                    Lana Del Rey   \n",
       "99               Young And Beautiful                    Lana Del Rey   \n",
       "59            Is There Someone Else?                      The Weeknd   \n",
       "71                        West Coast                    Lana Del Rey   \n",
       "\n",
       "                                 Album Release Date  Popularity  Danceability  \\\n",
       "61                               Lover   2019-08-23          99         0.552   \n",
       "7                           Flower Boy   2017-07-21          93         0.558   \n",
       "1                        1989 (Deluxe)   2014-01-01          91         0.588   \n",
       "0                           reputation   2017-11-10          88         0.562   \n",
       "64                 My Dear Melancholy,   2018-03-30          88         0.461   \n",
       "98           Favourite Worst Nightmare   2007-04-22          87         0.526   \n",
       "27  Born To Die - The Paradise Edition   2012-01-01          87         0.565   \n",
       "99                 Young And Beautiful   2013-01-01          87         0.324   \n",
       "59                             Dawn FM   2022-01-06          86         0.702   \n",
       "71              Ultraviolence (Deluxe)   2014-01-01          86         0.527   \n",
       "\n",
       "    Acousticness  Loudness  Energy    Tempo  Release Year  \n",
       "61       0.11700    -5.707   0.702  169.994          2019  \n",
       "7        0.37100    -9.222   0.559   78.558          2017  \n",
       "1        0.00245    -5.595   0.791   94.933          2014  \n",
       "0        0.00465    -6.745   0.689  172.054          2017  \n",
       "64       0.17000    -4.954   0.593  134.170          2018  \n",
       "98       0.00287    -5.822   0.866  140.266          2007  \n",
       "27       0.05420    -6.826   0.654  111.968          2012  \n",
       "99       0.26200    -8.920   0.416  113.986          2013  \n",
       "59       0.03880    -7.830   0.586  134.951          2022  \n",
       "71       0.19400    -7.664   0.591  123.167          2014  "
      ]
     },
     "execution_count": 173,
     "metadata": {},
     "output_type": "execute_result"
    }
   ],
   "source": [
    "# Mengurutkan DataFrame 'df' berdasarkan kolom popularity (urutan menurun)\n",
    "df_sorted = df.sort_values(by='Popularity', ascending=False)\n",
    "top_10_popular = df_sorted.head(10)\n",
    "top_10_popular"
   ]
  },
  {
   "cell_type": "code",
   "execution_count": 175,
   "metadata": {},
   "outputs": [
    {
     "data": {
      "image/png": "[encoded data removed]",
      "text/plain": [
       "<Figure size 1080x432 with 1 Axes>"
      ]
     },
     "metadata": {
      "needs_background": "light"
     },
     "output_type": "display_data"
    }
   ],
   "source": [
    "# Plotting\n",
    "plt.figure(figsize=(15, 6))\n",
    "plt.barh(top_10_popular['Track Name'], top_10_popular['Popularity'], color='blue')\n",
    "plt.xlabel('Track Name')\n",
    "plt.ylabel('Popularity')\n",
    "plt.title('Top 10 Most Popular Songs')\n",
    "plt.gca().invert_yaxis()  # Invert y-axis to show the highest popularity at the top\n",
    "plt.tight_layout()\n",
    "plt.xticks(rotation=90)\n",
    "plt.show()"
   ]
  },
  {
   "cell_type": "code",
   "execution_count": 176,
   "metadata": {},
   "outputs": [
    {
     "data": {
      "image/png": "[encoded data removed]",
      "text/plain": [
       "<Figure size 792x504 with 1 Axes>"
      ]
     },
     "metadata": {
      "needs_background": "light"
     },
     "output_type": "display_data"
    }
   ],
   "source": [
    "plt.figure(figsize=(11, 7))\n",
    "plt.bar(df_sorted['Artists'], df_sorted['Popularity'], color='purple')\n",
    "plt.xlabel('Artists')\n",
    "plt.ylabel('Popularity')\n",
    "plt.title('Popularity of Artists')\n",
    "plt.xticks(rotation=90)\n",
    "plt.tight_layout()"
   ]
  },
  {
   "cell_type": "markdown",
   "metadata": {},
   "source": [
    "## "
   ]
  },
  {
   "cell_type": "code",
   "execution_count": 145,
   "metadata": {},
   "outputs": [],
   "source": [
    "# utk mengakses personal listening history & mengambil info tentang lagu yang sudah dimainkan\n",
    "import spotipy\n",
    "from spotipy.oauth2 import SpotifyOAuth\n",
    "from collections import Counter"
   ]
  },
  {
   "cell_type": "code",
   "execution_count": 155,
   "metadata": {},
   "outputs": [],
   "source": [
    "# membuka halaman utk izin akses\n",
    "redirect_uri = 'http://localhost:80/callback'"
   ]
  },
  {
   "cell_type": "markdown",
   "metadata": {},
   "source": [
    "## MENAMPILKAN LAGU TERAKHIR DIPUTAR DI SPOTIFY"
   ]
  },
  {
   "cell_type": "code",
   "execution_count": 44,
   "metadata": {},
   "outputs": [],
   "source": [
    "sp = spotipy.Spotify(auth_manager=SpotifyOAuth(client_id=client_id, client_secret=client_secret, redirect_uri=redirect_uri, scope=\"user-library-read user-read-playback-state user-read-recently-played\"))"
   ]
  },
  {
   "cell_type": "code",
   "execution_count": 133,
   "metadata": {},
   "outputs": [],
   "source": [
    "# Membuat variable recently_played utk mengambil 10 lagu yg terakhir diputar\n",
    "recently_played = sp.current_user_recently_played(limit=10)  "
   ]
  },
  {
   "cell_type": "code",
   "execution_count": 134,
   "metadata": {},
   "outputs": [],
   "source": [
    "# Buat list utk menyimpan detail lagu seperti nama lagu & penyanyi\n",
    "track_names = []\n",
    "artist_names = []\n",
    "\n",
    "# Melakukan extract \n",
    "for item in recently_played['items']:\n",
    "    track = item['track']\n",
    "    # Menambahkan nama lagu & penyanyi pertama & menyimpannya secara terpisah\n",
    "    track_names.append(track['name'])\n",
    "    artist_names.append(track['artists'][0]['name'])"
   ]
  },
  {
   "cell_type": "code",
   "execution_count": 139,
   "metadata": {},
   "outputs": [
    {
     "data": {
      "image/png": "[encoded data removed]",
      "text/plain": [
       "<Figure size 720x432 with 1 Axes>"
      ]
     },
     "metadata": {
      "needs_background": "light"
     },
     "output_type": "display_data"
    }
   ],
   "source": [
    "# Membuat bar chart\n",
    "plt.figure(figsize=(10, 6))\n",
    "plt.barh(track_names, artist_names, color='skyblue')\n",
    "plt.xlabel('Artist')\n",
    "plt.ylabel('Track Name')\n",
    "plt.title('Top 10 Recently Played Tracks')\n",
    "plt.gca().invert_yaxis()  # untuk menampilkan top track di paling atas\n",
    "plt.tight_layout()\n",
    "plt.show()"
   ]
  },
  {
   "cell_type": "markdown",
   "metadata": {},
   "source": [
    "## Genre paling umum pada Playlist"
   ]
  },
  {
   "cell_type": "code",
   "execution_count": 146,
   "metadata": {},
   "outputs": [],
   "source": [
    "playlist_id = 'spotify:playlist:3Ga9YWdERfmCpkoNlrE1tV'\n",
    "\n",
    "# Meminta track ID dalam setiap item\n",
    "playlist_tracks = sp.playlist_tracks(playlist_id, fields ='items(track(id))')"
   ]
  },
  {
   "cell_type": "code",
   "execution_count": 147,
   "metadata": {},
   "outputs": [],
   "source": [
    "# Melacak jumlah genre\n",
    "genre_counter = Counter()\n",
    "\n",
    "# Looping \n",
    "for item in playlist_tracks['items']:\n",
    "    track = item['track']\n",
    "    track_id = track['id']\n",
    "    track_info = sp.track(track_id)\n",
    "    for artist in track_info['artists']:\n",
    "        artist_info = sp.artist(artist['id'])\n",
    "        # Mengambil genre yg terkait dgn artist\n",
    "        genres = artist_info['genres']\n",
    "        # Memperbarui jumlah genre dalam genre_counter\n",
    "        genre_counter.update(genres)"
   ]
  },
  {
   "cell_type": "code",
   "execution_count": 149,
   "metadata": {},
   "outputs": [
    {
     "name": "stdout",
     "output_type": "stream",
     "text": [
      "The most common genre in the playlist is 'pop' with 39 occurrences.\n"
     ]
    }
   ],
   "source": [
    "# Menggunakan object most_common dr Counter utk mengambil genre paling umum\n",
    "most_common_genre = genre_counter.most_common(1)[0]\n",
    "# Extract nama genre dr tuple & extract jumlah kejadian dr tuple\n",
    "print(f\"The most common genre in the playlist is '{most_common_genre[0]}' with {most_common_genre[1]} occurrences.\")"
   ]
  }
 ],
 "metadata": {
  "kernelspec": {
   "display_name": "Python 3",
   "language": "python",
   "name": "python3"
  },
  "language_info": {
   "codemirror_mode": {
    "name": "ipython",
    "version": 3
   },
   "file_extension": ".py",
   "mimetype": "text/x-python",
   "name": "python",
   "nbconvert_exporter": "python",
   "pygments_lexer": "ipython3",
   "version": "3.9.2"
  },
  "orig_nbformat": 4
 },
 "nbformat": 4,
 "nbformat_minor": 2
}
